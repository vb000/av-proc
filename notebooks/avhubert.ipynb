{
 "cells": [
  {
   "cell_type": "code",
   "execution_count": null,
   "metadata": {},
   "outputs": [],
   "source": [
    "import os, sys\n",
    "import git\n",
    "\n",
    "root = git.Repo('.', search_parent_directories=True).working_tree_dir\n",
    "os.chdir(root)\n",
    "print(f\"Changed working directory to {root}\")\n",
    "\n",
    "FFMPEG = '/mmfs1/gscratch/cse/bandhav/miniconda3/envs/avhubert/bin/ffmpeg'\n",
    "os.environ['PATH'] = f'{os.path.dirname(FFMPEG)}:' + os.environ['PATH']"
   ]
  },
  {
   "cell_type": "code",
   "execution_count": null,
   "metadata": {},
   "outputs": [],
   "source": [
    "from avhubert_infer import *"
   ]
  },
  {
   "cell_type": "code",
   "execution_count": null,
   "metadata": {},
   "outputs": [],
   "source": [
    "face_predictor_path = f\"{root}/data/misc/shape_predictor_68_face_landmarks.dat\"\n",
    "mean_face_path = f\"{root}/data/misc/20words_mean_face.npy\"\n",
    "ckpt_path = f\"{root}/data/checkpoints/base_vox_433h.pt\"\n",
    "\n",
    "utils.import_user_module(Namespace(user_dir=work_dir))\n",
    "models, saved_cfg, task = checkpoint_utils.load_model_ensemble_and_task([ckpt_path])"
   ]
  },
  {
   "cell_type": "code",
   "execution_count": null,
   "metadata": {},
   "outputs": [],
   "source": [
    "features = extract_visual_features_from_video(\n",
    "    origin_clip_path=f\"{root}/data/misc/avhubert_demo_video_8s.mp4\",\n",
    "    face_predictor_path=face_predictor_path,\n",
    "    mean_face_path=mean_face_path,\n",
    "    models=models,\n",
    "    task=task\n",
    ")\n",
    "\n",
    "print(features.shape) # [seq_len, 768]"
   ]
  }
 ],
 "metadata": {
  "kernelspec": {
   "display_name": "avhubert",
   "language": "python",
   "name": "avhubert"
  },
  "language_info": {
   "codemirror_mode": {
    "name": "ipython",
    "version": 3
   },
   "file_extension": ".py",
   "mimetype": "text/x-python",
   "name": "python",
   "nbconvert_exporter": "python",
   "pygments_lexer": "ipython3",
   "version": "3.8.20"
  }
 },
 "nbformat": 4,
 "nbformat_minor": 4
}
