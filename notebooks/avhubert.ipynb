{
 "cells": [
  {
   "cell_type": "code",
   "execution_count": null,
   "metadata": {},
   "outputs": [],
   "source": [
    "import os, sys\n",
    "import git\n",
    "\n",
    "root = git.Repo('.', search_parent_directories=True).working_tree_dir\n",
    "os.chdir(root)\n",
    "print(f\"Changed working directory to {root}\")\n",
    "\n",
    "FFMPEG = '/mmfs1/gscratch/cse/bandhav/miniconda3/envs/avhubert_gpu/bin/ffmpeg'\n",
    "os.environ['PATH'] = f'{os.path.dirname(FFMPEG)}:' + os.environ['PATH']"
   ]
  },
  {
   "cell_type": "code",
   "execution_count": null,
   "metadata": {},
   "outputs": [],
   "source": [
    "from avhubert_infer import *"
   ]
  },
  {
   "cell_type": "code",
   "execution_count": null,
   "metadata": {},
   "outputs": [],
   "source": [
    "import IPython.display as ipd\n",
    "from IPython.display import HTML\n",
    "\n",
    "def play_video(video_path, width=200):\n",
    "    mp4 = open(video_path,'rb').read()\n",
    "    data_url = \"data:video/mp4;base64,\" + b64encode(mp4).decode()\n",
    "    return ipd.display(HTML(f\"\"\"\n",
    "    <video width={width} controls>\n",
    "        <source src=\"{data_url}\" type=\"video/mp4\">\n",
    "    </video>\n",
    "    \"\"\"))\n",
    "\n",
    "play_video(f\"{root}/data/misc/avhubert_demo_video_8s.mp4\")"
   ]
  },
  {
   "cell_type": "code",
   "execution_count": null,
   "metadata": {},
   "outputs": [],
   "source": [
    "face_predictor_path = f\"{root}/data/misc/shape_predictor_68_face_landmarks.dat\"\n",
    "mean_face_path = f\"{root}/data/misc/20words_mean_face.npy\"\n",
    "ckpt_path = f\"{root}/data/checkpoints/base_vox_433h.pt\"\n",
    "cnn_detector_path = f'{root}/data/misc/mmod_human_face_detector.dat'"
   ]
  },
  {
   "cell_type": "code",
   "execution_count": null,
   "metadata": {},
   "outputs": [],
   "source": [
    "def show_roi(video_path, cnn_detector_path=None):\n",
    "    # Create a temporary file for mouth_roi_path\n",
    "    with tempfile.NamedTemporaryFile(suffix='.mp4') as mouth_roi:\n",
    "        mouth_roi_path = mouth_roi.name\n",
    "\n",
    "        # Call the preprocess_video function\n",
    "        preprocess_video(\n",
    "            video_path, mouth_roi_path, face_predictor_path, mean_face_path,\n",
    "            cnn_detector_path=cnn_detector_path\n",
    "        )\n",
    "\n",
    "        play_video(mouth_roi_path)"
   ]
  },
  {
   "cell_type": "code",
   "execution_count": null,
   "metadata": {},
   "outputs": [],
   "source": [
    "show_roi(f\"{root}/data/misc/avhubert_demo_video_8s.mp4\", cnn_detector_path)"
   ]
  },
  {
   "cell_type": "code",
   "execution_count": null,
   "metadata": {},
   "outputs": [],
   "source": [
    "show_roi(f\"{root}/data/misc/avhubert_demo_video_8s.mp4\")"
   ]
  },
  {
   "cell_type": "code",
   "execution_count": null,
   "metadata": {},
   "outputs": [],
   "source": [
    "utils.import_user_module(Namespace(user_dir=work_dir))\n",
    "models, saved_cfg, task = checkpoint_utils.load_model_ensemble_and_task([ckpt_path])"
   ]
  },
  {
   "cell_type": "code",
   "execution_count": null,
   "metadata": {},
   "outputs": [],
   "source": [
    "features = extract_visual_features_from_video(\n",
    "    origin_clip_path=f\"{root}/data/misc/avhubert_demo_video_8s.mp4\",\n",
    "    face_predictor_path=face_predictor_path,\n",
    "    mean_face_path=mean_face_path,\n",
    "    models=models,\n",
    "    task=task,\n",
    "    cnn_detector_path=cnn_detector_path\n",
    ")\n",
    "print(features.shape) # [seq_len, 768]"
   ]
  }
 ],
 "metadata": {
  "kernelspec": {
   "display_name": "avhubert_gpu",
   "language": "python",
   "name": "avhubert_gpu"
  },
  "language_info": {
   "codemirror_mode": {
    "name": "ipython",
    "version": 3
   },
   "file_extension": ".py",
   "mimetype": "text/x-python",
   "name": "python",
   "nbconvert_exporter": "python",
   "pygments_lexer": "ipython3",
   "version": "3.8.20"
  }
 },
 "nbformat": 4,
 "nbformat_minor": 4
}
