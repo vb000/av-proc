{
 "cells": [
  {
   "cell_type": "code",
   "execution_count": null,
   "metadata": {},
   "outputs": [],
   "source": [
    "import os, sys\n",
    "import git\n",
    "\n",
    "FFMPEG = '/mmfs1/gscratch/cse/bandhav/miniconda3/envs/avhubert/bin/ffmpeg'\n",
    "os.environ['PATH'] = f'{os.path.dirname(FFMPEG)}:' + os.environ['PATH']\n",
    "!which ffmpeg\n",
    "!which ffprobe\n",
    "\n",
    "root = git.Repo('.', search_parent_directories=True).working_tree_dir\n",
    "work_dir = os.path.join(root, 'modules', 'av_hubert', 'avhubert')\n",
    "os.chdir(work_dir)\n",
    "print(f\"Changed working directory to {work_dir}\")"
   ]
  },
  {
   "cell_type": "code",
   "execution_count": null,
   "metadata": {},
   "outputs": [],
   "source": [
    "import dlib, cv2, os\n",
    "import numpy as np\n",
    "import skvideo\n",
    "import skvideo.io\n",
    "from tqdm import tqdm\n",
    "from preparation.align_mouth import landmarks_interpolate, crop_patch, write_video_ffmpeg\n",
    "from IPython.display import HTML\n",
    "from base64 import b64encode\n",
    "\n",
    "def play_video(video_path, width=200):\n",
    "    mp4 = open(video_path,'rb').read()\n",
    "    data_url = \"data:video/mp4;base64,\" + b64encode(mp4).decode()\n",
    "    return HTML(f\"\"\"\n",
    "    <video width={width} controls>\n",
    "        <source src=\"{data_url}\" type=\"video/mp4\">\n",
    "    </video>\n",
    "    \"\"\")\n",
    "\n",
    "def detect_landmark(image, detector, predictor):\n",
    "    gray = cv2.cvtColor(image, cv2.COLOR_RGB2GRAY)\n",
    "    rects = detector(gray, 1)\n",
    "    coords = None\n",
    "    for (_, rect) in enumerate(rects):\n",
    "        shape = predictor(gray, rect)\n",
    "        coords = np.zeros((68, 2), dtype=np.int32)\n",
    "        for i in range(0, 68):\n",
    "            coords[i] = (shape.part(i).x, shape.part(i).y)\n",
    "    return coords\n",
    "\n",
    "def preprocess_video(input_video_path, output_video_path, face_predictor_path, mean_face_path):\n",
    "    detector = dlib.get_frontal_face_detector()\n",
    "    predictor = dlib.shape_predictor(face_predictor_path)\n",
    "    STD_SIZE = (256, 256)\n",
    "    mean_face_landmarks = np.load(mean_face_path)\n",
    "    stablePntsIDs = [33, 36, 39, 42, 45]\n",
    "    videogen = skvideo.io.vread(input_video_path)\n",
    "    frames = np.array([frame for frame in videogen])\n",
    "    landmarks = []\n",
    "    for frame in tqdm(frames):\n",
    "        landmark = detect_landmark(frame, detector, predictor)\n",
    "        landmarks.append(landmark)\n",
    "    preprocessed_landmarks = landmarks_interpolate(landmarks)\n",
    "    rois = crop_patch(input_video_path, preprocessed_landmarks, mean_face_landmarks, stablePntsIDs, STD_SIZE, \n",
    "                        window_margin=12, start_idx=48, stop_idx=68, crop_height=96, crop_width=96)\n",
    "    write_video_ffmpeg(rois, output_video_path, FFMPEG)\n",
    "    return\n",
    "\n",
    "play_video(f'/mmfs1/gscratch/intelligentsystems/bandhav/av-proc/data/misc/avhubert_demo_video_8s.mp4', width=300)"
   ]
  },
  {
   "cell_type": "code",
   "execution_count": null,
   "metadata": {},
   "outputs": [],
   "source": [
    "face_predictor_path = f\"{root}/data/misc/shape_predictor_68_face_landmarks.dat\"\n",
    "mean_face_path = f\"{root}/data/misc/20words_mean_face.npy\"\n",
    "origin_clip_path = f\"{root}/data/misc/avhubert_demo_video_8s.mp4\"\n",
    "mouth_roi_path = f\"{root}/data/roi.mp4\"\n",
    "preprocess_video(origin_clip_path, mouth_roi_path, face_predictor_path, mean_face_path)\n",
    "play_video(mouth_roi_path)"
   ]
  }
 ],
 "metadata": {
  "kernelspec": {
   "display_name": "avhubert",
   "language": "python",
   "name": "avhubert"
  },
  "language_info": {
   "codemirror_mode": {
    "name": "ipython",
    "version": 3
   },
   "file_extension": ".py",
   "mimetype": "text/x-python",
   "name": "python",
   "nbconvert_exporter": "python",
   "pygments_lexer": "ipython3",
   "version": "3.8.20"
  }
 },
 "nbformat": 4,
 "nbformat_minor": 4
}
